{
 "cells": [
  {
   "cell_type": "code",
   "execution_count": 2,
   "metadata": {},
   "outputs": [],
   "source": [
    "import numpy as np\n",
    "import matplotlib.pyplot as plt\n",
    "\n",
    "np.set_printoptions(2)"
   ]
  },
  {
   "cell_type": "code",
   "execution_count": 3,
   "metadata": {},
   "outputs": [],
   "source": [
    "x = np.array([1, 1.3, 1.6, 1.9, 2.2])\n",
    "\n",
    "y = np.array([0.765197, 0.620086, 0.455402, 0.281818, 0.110362])\n"
   ]
  },
  {
   "cell_type": "markdown",
   "metadata": {},
   "source": [
    "# Newton's Divided Difference Method"
   ]
  },
  {
   "cell_type": "code",
   "execution_count": 101,
   "metadata": {},
   "outputs": [],
   "source": [
    "def ndd(xvals, yvals, memo={}):\n",
    "    n = len(xvals)\n",
    "    if n < 2:\n",
    "        raise ValueError('array too short, please get help!')\n",
    "    elif n == 2:\n",
    "        val = (yvals[1] - yvals[0]) / (xvals[1] - xvals[0])\n",
    "        print(val, \"hi\")\n",
    "        return val\n",
    "    else:\n",
    "        val = (ndd(xvals[1:], yvals[1:]) - ndd(xvals[:-1], yvals[:-1])) / (xvals[-1] - xvals[0])\n",
    "        print(val)\n",
    "        return val\n",
    "    \n"
   ]
  },
  {
   "cell_type": "code",
   "execution_count": 102,
   "metadata": {},
   "outputs": [
    {
     "name": "stdout",
     "output_type": "stream",
     "text": [
      "-0.5715199999999995 hi\n",
      "-0.5786133333333335 hi\n",
      "0.011822222222223434\n",
      "-0.5786133333333335 hi\n",
      "-0.5489466666666668 hi\n",
      "-0.04944444444444456\n",
      "0.06807407407407554\n",
      "-0.5786133333333335 hi\n",
      "-0.5489466666666668 hi\n",
      "-0.04944444444444456\n",
      "-0.5489466666666668 hi\n",
      "-0.4837033333333332 hi\n",
      "-0.10873888888888932\n",
      "0.06588271604938306\n",
      "0.0018261316872437287\n"
     ]
    },
    {
     "data": {
      "text/plain": [
       "0.0018261316872437287"
      ]
     },
     "execution_count": 102,
     "metadata": {},
     "output_type": "execute_result"
    }
   ],
   "source": [
    "ndd(x,y)"
   ]
  },
  {
   "cell_type": "code",
   "execution_count": null,
   "metadata": {},
   "outputs": [],
   "source": []
  },
  {
   "cell_type": "code",
   "execution_count": 8,
   "metadata": {},
   "outputs": [
    {
     "data": {
      "text/plain": [
       "array([1. , 1.3, 1.6, 1.9, 2.2])"
      ]
     },
     "execution_count": 8,
     "metadata": {},
     "output_type": "execute_result"
    }
   ],
   "source": [
    "x"
   ]
  },
  {
   "cell_type": "code",
   "execution_count": 6,
   "metadata": {},
   "outputs": [
    {
     "data": {
      "text/plain": [
       "array([1.3, 1.6, 1.9, 2.2])"
      ]
     },
     "execution_count": 6,
     "metadata": {},
     "output_type": "execute_result"
    }
   ],
   "source": [
    "x[1:]\n",
    "\n"
   ]
  },
  {
   "cell_type": "code",
   "execution_count": 8,
   "metadata": {},
   "outputs": [
    {
     "data": {
      "text/plain": [
       "array([1. , 1.3, 1.6, 1.9])"
      ]
     },
     "execution_count": 8,
     "metadata": {},
     "output_type": "execute_result"
    }
   ],
   "source": [
    "x[:-1]"
   ]
  },
  {
   "cell_type": "code",
   "execution_count": 9,
   "metadata": {},
   "outputs": [],
   "source": [
    "randint = np.random.randint"
   ]
  },
  {
   "cell_type": "code",
   "execution_count": null,
   "metadata": {},
   "outputs": [],
   "source": []
  },
  {
   "cell_type": "code",
   "execution_count": 99,
   "metadata": {},
   "outputs": [
    {
     "name": "stdout",
     "output_type": "stream",
     "text": [
      "198.0 hi\n",
      "132.0 hi\n",
      "22.0\n",
      "132.0 hi\n",
      "68.0 hi\n",
      "16.0\n",
      "1.0\n",
      "132.0 hi\n",
      "68.0 hi\n",
      "16.0\n",
      "68.0 hi\n",
      "24.0 hi\n",
      "11.0\n",
      "1.0\n",
      "0.0\n"
     ]
    },
    {
     "data": {
      "text/plain": [
       "0.0"
      ]
     },
     "execution_count": 99,
     "metadata": {},
     "output_type": "execute_result"
    }
   ],
   "source": [
    "x2 = [2,3,6,7,9]\n",
    "y2 = [15,39,243,375,771]\n",
    "\n",
    "ndd(x2, y2)"
   ]
  },
  {
   "cell_type": "code",
   "execution_count": null,
   "metadata": {},
   "outputs": [],
   "source": []
  }
 ],
 "metadata": {
  "kernelspec": {
   "display_name": "Python 3",
   "language": "python",
   "name": "python3"
  },
  "language_info": {
   "codemirror_mode": {
    "name": "ipython",
    "version": 3
   },
   "file_extension": ".py",
   "mimetype": "text/x-python",
   "name": "python",
   "nbconvert_exporter": "python",
   "pygments_lexer": "ipython3",
   "version": "3.7.1"
  }
 },
 "nbformat": 4,
 "nbformat_minor": 2
}
