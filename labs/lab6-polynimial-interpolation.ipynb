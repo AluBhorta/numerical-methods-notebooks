{
 "cells": [
  {
   "cell_type": "code",
   "execution_count": 64,
   "metadata": {},
   "outputs": [],
   "source": [
    "import numpy as np\n",
    "import matplotlib.pyplot as plt\n",
    "\n",
    "np.set_printoptions(2)"
   ]
  },
  {
   "cell_type": "code",
   "execution_count": 65,
   "metadata": {},
   "outputs": [
    {
     "data": {
      "text/plain": [
       "array([0, 1, 2, 3, 4, 5, 6, 7, 8, 9])"
      ]
     },
     "execution_count": 65,
     "metadata": {},
     "output_type": "execute_result"
    }
   ],
   "source": [
    "np.arange(10)"
   ]
  },
  {
   "cell_type": "code",
   "execution_count": 2,
   "metadata": {},
   "outputs": [
    {
     "data": {
      "text/plain": [
       "[1, 3, 4, 7, 10, 12, 15]"
      ]
     },
     "execution_count": 2,
     "metadata": {},
     "output_type": "execute_result"
    }
   ],
   "source": [
    "\n",
    "t = [1,3,4,7,10,12,15]\n",
    "t"
   ]
  },
  {
   "cell_type": "code",
   "execution_count": 3,
   "metadata": {},
   "outputs": [
    {
     "data": {
      "text/plain": [
       "[4, 7, 2, 2, 5, 10, 4]"
      ]
     },
     "execution_count": 3,
     "metadata": {},
     "output_type": "execute_result"
    }
   ],
   "source": [
    "P = [4,7,2,2,5,10,4]\n",
    "P\n"
   ]
  },
  {
   "cell_type": "code",
   "execution_count": 5,
   "metadata": {},
   "outputs": [],
   "source": [
    "# Ac = P"
   ]
  },
  {
   "cell_type": "code",
   "execution_count": 9,
   "metadata": {},
   "outputs": [
    {
     "data": {
      "text/plain": [
       "7"
      ]
     },
     "execution_count": 9,
     "metadata": {},
     "output_type": "execute_result"
    }
   ],
   "source": [
    "l = len(t)\n",
    "l"
   ]
  },
  {
   "cell_type": "code",
   "execution_count": 11,
   "metadata": {},
   "outputs": [
    {
     "data": {
      "text/plain": [
       "array([[0., 0., 0., 0., 0., 0., 0.],\n",
       "       [0., 0., 0., 0., 0., 0., 0.],\n",
       "       [0., 0., 0., 0., 0., 0., 0.],\n",
       "       [0., 0., 0., 0., 0., 0., 0.],\n",
       "       [0., 0., 0., 0., 0., 0., 0.],\n",
       "       [0., 0., 0., 0., 0., 0., 0.],\n",
       "       [0., 0., 0., 0., 0., 0., 0.]])"
      ]
     },
     "execution_count": 11,
     "metadata": {},
     "output_type": "execute_result"
    }
   ],
   "source": [
    "A = np.zeros((l,l))\n",
    "\n",
    "A"
   ]
  },
  {
   "cell_type": "code",
   "execution_count": 12,
   "metadata": {},
   "outputs": [],
   "source": [
    "# make A"
   ]
  },
  {
   "cell_type": "code",
   "execution_count": 16,
   "metadata": {},
   "outputs": [],
   "source": [
    "for i in range(l):\n",
    "    for j in range(l):\n",
    "        A[i][j] = t[i]**(j)"
   ]
  },
  {
   "cell_type": "code",
   "execution_count": 17,
   "metadata": {},
   "outputs": [
    {
     "data": {
      "text/plain": [
       "array([[1.00e+00, 1.00e+00, 1.00e+00, 1.00e+00, 1.00e+00, 1.00e+00,\n",
       "        1.00e+00],\n",
       "       [1.00e+00, 3.00e+00, 9.00e+00, 2.70e+01, 8.10e+01, 2.43e+02,\n",
       "        7.29e+02],\n",
       "       [1.00e+00, 4.00e+00, 1.60e+01, 6.40e+01, 2.56e+02, 1.02e+03,\n",
       "        4.10e+03],\n",
       "       [1.00e+00, 7.00e+00, 4.90e+01, 3.43e+02, 2.40e+03, 1.68e+04,\n",
       "        1.18e+05],\n",
       "       [1.00e+00, 1.00e+01, 1.00e+02, 1.00e+03, 1.00e+04, 1.00e+05,\n",
       "        1.00e+06],\n",
       "       [1.00e+00, 1.20e+01, 1.44e+02, 1.73e+03, 2.07e+04, 2.49e+05,\n",
       "        2.99e+06],\n",
       "       [1.00e+00, 1.50e+01, 2.25e+02, 3.38e+03, 5.06e+04, 7.59e+05,\n",
       "        1.14e+07]])"
      ]
     },
     "execution_count": 17,
     "metadata": {},
     "output_type": "execute_result"
    }
   ],
   "source": [
    "A"
   ]
  },
  {
   "cell_type": "code",
   "execution_count": 21,
   "metadata": {},
   "outputs": [],
   "source": [
    "from numpy.linalg import inv\n"
   ]
  },
  {
   "cell_type": "code",
   "execution_count": 23,
   "metadata": {},
   "outputs": [
    {
     "data": {
      "text/plain": [
       "array([[ 3.03e+00, -8.33e+00,  7.95e+00, -2.50e+00,  1.33e+00, -5.30e-01,\n",
       "         4.55e-02],\n",
       "       [-2.96e+00,  1.37e+01, -1.37e+01,  4.58e+00, -2.50e+00,  1.00e+00,\n",
       "        -8.68e-02],\n",
       "       [ 1.12e+00, -6.64e+00,  7.27e+00, -2.71e+00,  1.54e+00, -6.30e-01,\n",
       "         5.53e-02],\n",
       "       [-2.09e-01,  1.43e+00, -1.67e+00,  7.08e-01, -4.29e-01,  1.80e-01,\n",
       "        -1.62e-02],\n",
       "       [ 2.06e-02, -1.54e-01,  1.87e-01, -8.85e-02,  5.82e-02, -2.53e-02,\n",
       "         2.37e-03],\n",
       "       [-1.02e-03,  8.10e-03, -1.01e-02,  5.21e-03, -3.70e-03,  1.68e-03,\n",
       "        -1.67e-04],\n",
       "       [ 2.00e-05, -1.65e-04,  2.10e-04, -1.16e-04,  8.82e-05, -4.21e-05,\n",
       "         4.51e-06]])"
      ]
     },
     "execution_count": 23,
     "metadata": {},
     "output_type": "execute_result"
    }
   ],
   "source": [
    "inv(A)"
   ]
  },
  {
   "cell_type": "code",
   "execution_count": 36,
   "metadata": {},
   "outputs": [
    {
     "data": {
      "text/plain": [
       "array([[ 4,  7,  2,  2,  5, 10,  4]])"
      ]
     },
     "execution_count": 36,
     "metadata": {},
     "output_type": "execute_result"
    }
   ],
   "source": [
    "P = np.array([4,7,2,2,5,10,4])[np.newaxis]\n",
    "P"
   ]
  },
  {
   "cell_type": "code",
   "execution_count": 37,
   "metadata": {},
   "outputs": [
    {
     "data": {
      "text/plain": [
       "array([[ 4],\n",
       "       [ 7],\n",
       "       [ 2],\n",
       "       [ 2],\n",
       "       [ 5],\n",
       "       [10],\n",
       "       [ 4]])"
      ]
     },
     "execution_count": 37,
     "metadata": {},
     "output_type": "execute_result"
    }
   ],
   "source": [
    "P.T"
   ]
  },
  {
   "cell_type": "code",
   "execution_count": null,
   "metadata": {},
   "outputs": [],
   "source": []
  },
  {
   "cell_type": "code",
   "execution_count": 50,
   "metadata": {},
   "outputs": [
    {
     "data": {
      "text/plain": [
       "array([[-3.38e+01],\n",
       "       [ 6.29e+01],\n",
       "       [-3.13e+01],\n",
       "       [ 6.87e+00],\n",
       "       [-7.53e-01],\n",
       "       [ 4.05e-02],\n",
       "       [-8.50e-04]])"
      ]
     },
     "execution_count": 50,
     "metadata": {},
     "output_type": "execute_result"
    }
   ],
   "source": [
    "c2 = np.dot(inv(A), P.T)\n",
    "c2"
   ]
  },
  {
   "cell_type": "code",
   "execution_count": 66,
   "metadata": {},
   "outputs": [
    {
     "data": {
      "image/png": "[encoded data removed]",
      "text/plain": [
       "<Figure size 432x288 with 1 Axes>"
      ]
     },
     "metadata": {},
     "output_type": "display_data"
    }
   ],
   "source": [
    "plt.scatter(t,P)\n",
    "plt.show()"
   ]
  },
  {
   "cell_type": "code",
   "execution_count": 68,
   "metadata": {},
   "outputs": [
    {
     "data": {
      "text/plain": [
       "(7, 1)"
      ]
     },
     "execution_count": 68,
     "metadata": {},
     "output_type": "execute_result"
    }
   ],
   "source": [
    "c2.shape"
   ]
  },
  {
   "cell_type": "code",
   "execution_count": 80,
   "metadata": {},
   "outputs": [
    {
     "data": {
      "text/plain": [
       "array([-3.38e+01,  6.29e+01, -3.13e+01,  6.87e+00, -7.53e-01,  4.05e-02,\n",
       "       -8.50e-04])"
      ]
     },
     "execution_count": 80,
     "metadata": {},
     "output_type": "execute_result"
    }
   ],
   "source": [
    "c = c2.reshape(7,)\n",
    "c"
   ]
  },
  {
   "cell_type": "code",
   "execution_count": 81,
   "metadata": {},
   "outputs": [
    {
     "data": {
      "text/plain": [
       "(7,)"
      ]
     },
     "execution_count": 81,
     "metadata": {},
     "output_type": "execute_result"
    }
   ],
   "source": [
    "c.shape"
   ]
  },
  {
   "cell_type": "code",
   "execution_count": 109,
   "metadata": {},
   "outputs": [
    {
     "data": {
      "text/plain": [
       "array([ 1.  ,  1.05,  1.1 ,  1.15,  1.2 ,  1.25,  1.3 ,  1.35,  1.4 ,\n",
       "        1.45,  1.5 ,  1.55,  1.6 ,  1.65,  1.7 ,  1.75,  1.8 ,  1.85,\n",
       "        1.9 ,  1.95,  2.  ,  2.05,  2.1 ,  2.15,  2.2 ,  2.25,  2.3 ,\n",
       "        2.35,  2.4 ,  2.45,  2.5 ,  2.55,  2.6 ,  2.65,  2.7 ,  2.75,\n",
       "        2.8 ,  2.85,  2.9 ,  2.95,  3.  ,  3.05,  3.1 ,  3.15,  3.2 ,\n",
       "        3.25,  3.3 ,  3.35,  3.4 ,  3.45,  3.5 ,  3.55,  3.6 ,  3.65,\n",
       "        3.7 ,  3.75,  3.8 ,  3.85,  3.9 ,  3.95,  4.  ,  4.05,  4.1 ,\n",
       "        4.15,  4.2 ,  4.25,  4.3 ,  4.35,  4.4 ,  4.45,  4.5 ,  4.55,\n",
       "        4.6 ,  4.65,  4.7 ,  4.75,  4.8 ,  4.85,  4.9 ,  4.95,  5.  ,\n",
       "        5.05,  5.1 ,  5.15,  5.2 ,  5.25,  5.3 ,  5.35,  5.4 ,  5.45,\n",
       "        5.5 ,  5.55,  5.6 ,  5.65,  5.7 ,  5.75,  5.8 ,  5.85,  5.9 ,\n",
       "        5.95,  6.  ,  6.05,  6.1 ,  6.15,  6.2 ,  6.25,  6.3 ,  6.35,\n",
       "        6.4 ,  6.45,  6.5 ,  6.55,  6.6 ,  6.65,  6.7 ,  6.75,  6.8 ,\n",
       "        6.85,  6.9 ,  6.95,  7.  ,  7.05,  7.1 ,  7.15,  7.2 ,  7.25,\n",
       "        7.3 ,  7.35,  7.4 ,  7.45,  7.5 ,  7.55,  7.6 ,  7.65,  7.7 ,\n",
       "        7.75,  7.8 ,  7.85,  7.9 ,  7.95,  8.  ,  8.05,  8.1 ,  8.15,\n",
       "        8.2 ,  8.25,  8.3 ,  8.35,  8.4 ,  8.45,  8.5 ,  8.55,  8.6 ,\n",
       "        8.65,  8.7 ,  8.75,  8.8 ,  8.85,  8.9 ,  8.95,  9.  ,  9.05,\n",
       "        9.1 ,  9.15,  9.2 ,  9.25,  9.3 ,  9.35,  9.4 ,  9.45,  9.5 ,\n",
       "        9.55,  9.6 ,  9.65,  9.7 ,  9.75,  9.8 ,  9.85,  9.9 ,  9.95,\n",
       "       10.  , 10.05, 10.1 , 10.15, 10.2 , 10.25, 10.3 , 10.35, 10.4 ,\n",
       "       10.45, 10.5 , 10.55, 10.6 , 10.65, 10.7 , 10.75, 10.8 , 10.85,\n",
       "       10.9 , 10.95, 11.  , 11.05, 11.1 , 11.15, 11.2 , 11.25, 11.3 ,\n",
       "       11.35, 11.4 , 11.45, 11.5 , 11.55, 11.6 , 11.65, 11.7 , 11.75,\n",
       "       11.8 , 11.85, 11.9 , 11.95, 12.  , 12.05, 12.1 , 12.15, 12.2 ,\n",
       "       12.25, 12.3 , 12.35, 12.4 , 12.45, 12.5 , 12.55, 12.6 , 12.65,\n",
       "       12.7 , 12.75, 12.8 , 12.85, 12.9 , 12.95, 13.  , 13.05, 13.1 ,\n",
       "       13.15, 13.2 , 13.25, 13.3 , 13.35, 13.4 , 13.45, 13.5 , 13.55,\n",
       "       13.6 , 13.65, 13.7 , 13.75, 13.8 , 13.85, 13.9 , 13.95, 14.  ,\n",
       "       14.05, 14.1 , 14.15, 14.2 , 14.25, 14.3 , 14.35, 14.4 , 14.45,\n",
       "       14.5 , 14.55, 14.6 , 14.65, 14.7 , 14.75, 14.8 , 14.85, 14.9 ,\n",
       "       14.95])"
      ]
     },
     "execution_count": 109,
     "metadata": {},
     "output_type": "execute_result"
    }
   ],
   "source": [
    "T = np.arange(1,15,.05)\n",
    "T"
   ]
  },
  {
   "cell_type": "code",
   "execution_count": 110,
   "metadata": {},
   "outputs": [
    {
     "data": {
      "text/plain": [
       "array([0., 0., 0., 0., 0., 0., 0., 0., 0., 0., 0., 0., 0., 0., 0., 0., 0.,\n",
       "       0., 0., 0., 0., 0., 0., 0., 0., 0., 0., 0., 0., 0., 0., 0., 0., 0.,\n",
       "       0., 0., 0., 0., 0., 0., 0., 0., 0., 0., 0., 0., 0., 0., 0., 0., 0.,\n",
       "       0., 0., 0., 0., 0., 0., 0., 0., 0., 0., 0., 0., 0., 0., 0., 0., 0.,\n",
       "       0., 0., 0., 0., 0., 0., 0., 0., 0., 0., 0., 0., 0., 0., 0., 0., 0.,\n",
       "       0., 0., 0., 0., 0., 0., 0., 0., 0., 0., 0., 0., 0., 0., 0., 0., 0.,\n",
       "       0., 0., 0., 0., 0., 0., 0., 0., 0., 0., 0., 0., 0., 0., 0., 0., 0.,\n",
       "       0., 0., 0., 0., 0., 0., 0., 0., 0., 0., 0., 0., 0., 0., 0., 0., 0.,\n",
       "       0., 0., 0., 0., 0., 0., 0., 0., 0., 0., 0., 0., 0., 0., 0., 0., 0.,\n",
       "       0., 0., 0., 0., 0., 0., 0., 0., 0., 0., 0., 0., 0., 0., 0., 0., 0.,\n",
       "       0., 0., 0., 0., 0., 0., 0., 0., 0., 0., 0., 0., 0., 0., 0., 0., 0.,\n",
       "       0., 0., 0., 0., 0., 0., 0., 0., 0., 0., 0., 0., 0., 0., 0., 0., 0.,\n",
       "       0., 0., 0., 0., 0., 0., 0., 0., 0., 0., 0., 0., 0., 0., 0., 0., 0.,\n",
       "       0., 0., 0., 0., 0., 0., 0., 0., 0., 0., 0., 0., 0., 0., 0., 0., 0.,\n",
       "       0., 0., 0., 0., 0., 0., 0., 0., 0., 0., 0., 0., 0., 0., 0., 0., 0.,\n",
       "       0., 0., 0., 0., 0., 0., 0., 0., 0., 0., 0., 0., 0., 0., 0., 0., 0.,\n",
       "       0., 0., 0., 0., 0., 0., 0., 0.])"
      ]
     },
     "execution_count": 110,
     "metadata": {},
     "output_type": "execute_result"
    }
   ],
   "source": [
    "Pt = np.zeros(len(T))\n",
    "Pt"
   ]
  },
  {
   "cell_type": "code",
   "execution_count": 111,
   "metadata": {},
   "outputs": [
    {
     "data": {
      "text/plain": [
       "array([0., 0., 0., 0., 0., 0., 0.])"
      ]
     },
     "execution_count": 111,
     "metadata": {},
     "output_type": "execute_result"
    }
   ],
   "source": [
    "B = np.zeros(l)\n",
    "B"
   ]
  },
  {
   "cell_type": "code",
   "execution_count": 112,
   "metadata": {},
   "outputs": [
    {
     "data": {
      "text/plain": [
       "(7,)"
      ]
     },
     "execution_count": 112,
     "metadata": {},
     "output_type": "execute_result"
    }
   ],
   "source": [
    "B.shape"
   ]
  },
  {
   "cell_type": "code",
   "execution_count": 113,
   "metadata": {},
   "outputs": [
    {
     "data": {
      "text/plain": [
       "array([[0.],\n",
       "       [0.],\n",
       "       [0.],\n",
       "       [0.],\n",
       "       [0.],\n",
       "       [0.],\n",
       "       [0.]])"
      ]
     },
     "execution_count": 113,
     "metadata": {},
     "output_type": "execute_result"
    }
   ],
   "source": [
    "BT = B.reshape(7,1)\n",
    "BT"
   ]
  },
  {
   "cell_type": "code",
   "execution_count": 114,
   "metadata": {
    "scrolled": true
   },
   "outputs": [
    {
     "data": {
      "text/plain": [
       "array([ 4.00e+00,  4.87e+00,  5.67e+00,  6.40e+00,  7.06e+00,  7.67e+00,\n",
       "        8.21e+00,  8.70e+00,  9.13e+00,  9.51e+00,  9.85e+00,  1.01e+01,\n",
       "        1.04e+01,  1.06e+01,  1.07e+01,  1.09e+01,  1.10e+01,  1.10e+01,\n",
       "        1.10e+01,  1.10e+01,  1.10e+01,  1.10e+01,  1.09e+01,  1.08e+01,\n",
       "        1.07e+01,  1.05e+01,  1.04e+01,  1.02e+01,  9.99e+00,  9.79e+00,\n",
       "        9.57e+00,  9.35e+00,  9.11e+00,  8.87e+00,  8.61e+00,  8.36e+00,\n",
       "        8.09e+00,  7.82e+00,  7.55e+00,  7.28e+00,  7.00e+00,  6.72e+00,\n",
       "        6.44e+00,  6.17e+00,  5.89e+00,  5.61e+00,  5.34e+00,  5.07e+00,\n",
       "        4.80e+00,  4.54e+00,  4.28e+00,  4.02e+00,  3.77e+00,  3.53e+00,\n",
       "        3.29e+00,  3.06e+00,  2.83e+00,  2.61e+00,  2.40e+00,  2.20e+00,\n",
       "        2.00e+00,  1.81e+00,  1.63e+00,  1.45e+00,  1.29e+00,  1.13e+00,\n",
       "        9.76e-01,  8.34e-01,  6.99e-01,  5.73e-01,  4.54e-01,  3.44e-01,\n",
       "        2.42e-01,  1.48e-01,  6.23e-02, -1.57e-02, -8.60e-02, -1.48e-01,\n",
       "       -2.03e-01, -2.51e-01, -2.91e-01, -3.23e-01, -3.49e-01, -3.68e-01,\n",
       "       -3.80e-01, -3.85e-01, -3.84e-01, -3.77e-01, -3.63e-01, -3.44e-01,\n",
       "       -3.19e-01, -2.89e-01, -2.53e-01, -2.13e-01, -1.67e-01, -1.17e-01,\n",
       "       -6.26e-02, -3.93e-03,  5.87e-02,  1.25e-01,  1.95e-01,  2.68e-01,\n",
       "        3.44e-01,  4.23e-01,  5.05e-01,  5.89e-01,  6.75e-01,  7.63e-01,\n",
       "        8.53e-01,  9.45e-01,  1.04e+00,  1.13e+00,  1.23e+00,  1.32e+00,\n",
       "        1.42e+00,  1.52e+00,  1.61e+00,  1.71e+00,  1.81e+00,  1.90e+00,\n",
       "        2.00e+00,  2.10e+00,  2.19e+00,  2.28e+00,  2.38e+00,  2.47e+00,\n",
       "        2.56e+00,  2.65e+00,  2.74e+00,  2.82e+00,  2.91e+00,  2.99e+00,\n",
       "        3.07e+00,  3.15e+00,  3.22e+00,  3.30e+00,  3.37e+00,  3.44e+00,\n",
       "        3.51e+00,  3.58e+00,  3.64e+00,  3.70e+00,  3.76e+00,  3.82e+00,\n",
       "        3.87e+00,  3.92e+00,  3.97e+00,  4.02e+00,  4.07e+00,  4.11e+00,\n",
       "        4.15e+00,  4.19e+00,  4.23e+00,  4.27e+00,  4.30e+00,  4.33e+00,\n",
       "        4.36e+00,  4.39e+00,  4.42e+00,  4.45e+00,  4.48e+00,  4.50e+00,\n",
       "        4.53e+00,  4.55e+00,  4.57e+00,  4.60e+00,  4.62e+00,  4.64e+00,\n",
       "        4.66e+00,  4.69e+00,  4.71e+00,  4.73e+00,  4.76e+00,  4.78e+00,\n",
       "        4.81e+00,  4.84e+00,  4.86e+00,  4.90e+00,  4.93e+00,  4.96e+00,\n",
       "        5.00e+00,  5.04e+00,  5.08e+00,  5.13e+00,  5.17e+00,  5.22e+00,\n",
       "        5.28e+00,  5.34e+00,  5.40e+00,  5.46e+00,  5.53e+00,  5.60e+00,\n",
       "        5.68e+00,  5.76e+00,  5.85e+00,  5.94e+00,  6.04e+00,  6.14e+00,\n",
       "        6.25e+00,  6.36e+00,  6.48e+00,  6.60e+00,  6.73e+00,  6.86e+00,\n",
       "        7.00e+00,  7.15e+00,  7.30e+00,  7.45e+00,  7.62e+00,  7.79e+00,\n",
       "        7.96e+00,  8.14e+00,  8.33e+00,  8.52e+00,  8.71e+00,  8.91e+00,\n",
       "        9.12e+00,  9.33e+00,  9.55e+00,  9.77e+00,  1.00e+01,  1.02e+01,\n",
       "        1.05e+01,  1.07e+01,  1.09e+01,  1.12e+01,  1.14e+01,  1.17e+01,\n",
       "        1.19e+01,  1.22e+01,  1.24e+01,  1.27e+01,  1.30e+01,  1.32e+01,\n",
       "        1.35e+01,  1.37e+01,  1.40e+01,  1.42e+01,  1.45e+01,  1.47e+01,\n",
       "        1.49e+01,  1.51e+01,  1.54e+01,  1.56e+01,  1.58e+01,  1.60e+01,\n",
       "        1.61e+01,  1.63e+01,  1.65e+01,  1.66e+01,  1.67e+01,  1.68e+01,\n",
       "        1.69e+01,  1.70e+01,  1.70e+01,  1.70e+01,  1.70e+01,  1.70e+01,\n",
       "        1.69e+01,  1.68e+01,  1.67e+01,  1.65e+01,  1.63e+01,  1.61e+01,\n",
       "        1.58e+01,  1.55e+01,  1.51e+01,  1.47e+01,  1.43e+01,  1.38e+01,\n",
       "        1.32e+01,  1.26e+01,  1.19e+01,  1.12e+01,  1.04e+01,  9.48e+00,\n",
       "        8.54e+00,  7.52e+00,  6.43e+00,  5.26e+00])"
      ]
     },
     "execution_count": 114,
     "metadata": {},
     "output_type": "execute_result"
    }
   ],
   "source": [
    "for i in range(len(T)):\n",
    "    for j in range(l):\n",
    "        B[j] = T[i]**j\n",
    "    Pt[i] = np.dot(c,BT)\n",
    "Pt"
   ]
  },
  {
   "cell_type": "code",
   "execution_count": 115,
   "metadata": {},
   "outputs": [
    {
     "data": {
      "image/png": "[encoded data removed]",
      "text/plain": [
       "<Figure size 432x288 with 1 Axes>"
      ]
     },
     "metadata": {},
     "output_type": "display_data"
    }
   ],
   "source": [
    "plt.scatter(T,Pt)\n",
    "plt.show()"
   ]
  },
  {
   "cell_type": "code",
   "execution_count": 116,
   "metadata": {},
   "outputs": [
    {
     "data": {
      "image/png": "[encoded data removed]",
      "text/plain": [
       "<Figure size 432x288 with 1 Axes>"
      ]
     },
     "metadata": {},
     "output_type": "display_data"
    }
   ],
   "source": [
    "plt.plot(T,Pt)\n",
    "plt.show()"
   ]
  },
  {
   "cell_type": "code",
   "execution_count": null,
   "metadata": {},
   "outputs": [],
   "source": []
  }
 ],
 "metadata": {
  "kernelspec": {
   "display_name": "Python 3",
   "language": "python",
   "name": "python3"
  },
  "language_info": {
   "codemirror_mode": {
    "name": "ipython",
    "version": 3
   },
   "file_extension": ".py",
   "mimetype": "text/x-python",
   "name": "python",
   "nbconvert_exporter": "python",
   "pygments_lexer": "ipython3",
   "version": "3.7.1"
  }
 },
 "nbformat": 4,
 "nbformat_minor": 2
}
