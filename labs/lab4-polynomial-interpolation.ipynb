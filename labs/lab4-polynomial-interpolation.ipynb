{
 "cells": [
  {
   "cell_type": "code",
   "execution_count": 1,
   "metadata": {},
   "outputs": [],
   "source": [
    "import numpy as np\n",
    "import matplotlib.pyplot as plt\n",
    "\n",
    "np.set_printoptions(2)"
   ]
  },
  {
   "cell_type": "code",
   "execution_count": 3,
   "metadata": {},
   "outputs": [
    {
     "data": {
      "text/plain": [
       "[1, 3, 4, 7, 10, 12, 15]"
      ]
     },
     "execution_count": 3,
     "metadata": {},
     "output_type": "execute_result"
    }
   ],
   "source": [
    "t = [1,3,4,7,10,12,15]\n",
    "\n",
    "t"
   ]
  },
  {
   "cell_type": "code",
   "execution_count": 4,
   "metadata": {},
   "outputs": [
    {
     "data": {
      "text/plain": [
       "[4, 7, 2, 2, 5, 10, 4]"
      ]
     },
     "execution_count": 4,
     "metadata": {},
     "output_type": "execute_result"
    }
   ],
   "source": [
    "P = [4,7,2,2,5,10,4]\n",
    "P"
   ]
  },
  {
   "cell_type": "code",
   "execution_count": 6,
   "metadata": {},
   "outputs": [
    {
     "data": {
      "text/plain": [
       "array([[0., 0., 0.],\n",
       "       [0., 0., 0.],\n",
       "       [0., 0., 0.],\n",
       "       [0., 0., 0.],\n",
       "       [0., 0., 0.],\n",
       "       [0., 0., 0.],\n",
       "       [0., 0., 0.]])"
      ]
     },
     "execution_count": 6,
     "metadata": {},
     "output_type": "execute_result"
    }
   ],
   "source": [
    "l = len(t)\n",
    "\n",
    "A = np.zeros((l,3))\n",
    "A\n"
   ]
  },
  {
   "cell_type": "code",
   "execution_count": 7,
   "metadata": {},
   "outputs": [
    {
     "data": {
      "text/plain": [
       "array([[  1.,   1.,   1.],\n",
       "       [  1.,   3.,   9.],\n",
       "       [  1.,   4.,  16.],\n",
       "       [  1.,   7.,  49.],\n",
       "       [  1.,  10., 100.],\n",
       "       [  1.,  12., 144.],\n",
       "       [  1.,  15., 225.]])"
      ]
     },
     "execution_count": 7,
     "metadata": {},
     "output_type": "execute_result"
    }
   ],
   "source": [
    "for i in range(l):\n",
    "    for j in range(3):\n",
    "        A[i][j] = t[i]**(j)\n",
    "\n",
    "A"
   ]
  },
  {
   "cell_type": "code",
   "execution_count": 8,
   "metadata": {},
   "outputs": [],
   "source": [
    "from numpy.linalg import inv"
   ]
  },
  {
   "cell_type": "code",
   "execution_count": 17,
   "metadata": {},
   "outputs": [
    {
     "data": {
      "text/plain": [
       "array([[  1.,   1.,   1.,   1.,   1.,   1.,   1.],\n",
       "       [  1.,   3.,   4.,   7.,  10.,  12.,  15.],\n",
       "       [  1.,   9.,  16.,  49., 100., 144., 225.]])"
      ]
     },
     "execution_count": 17,
     "metadata": {},
     "output_type": "execute_result"
    }
   ],
   "source": [
    "A.T"
   ]
  },
  {
   "cell_type": "code",
   "execution_count": 19,
   "metadata": {},
   "outputs": [
    {
     "data": {
      "text/plain": [
       "(3, 7)"
      ]
     },
     "execution_count": 19,
     "metadata": {},
     "output_type": "execute_result"
    }
   ],
   "source": [
    "A.T.shape"
   ]
  },
  {
   "cell_type": "code",
   "execution_count": 20,
   "metadata": {},
   "outputs": [
    {
     "data": {
      "text/plain": [
       "(7, 3)"
      ]
     },
     "execution_count": 20,
     "metadata": {},
     "output_type": "execute_result"
    }
   ],
   "source": [
    "A.shape"
   ]
  },
  {
   "cell_type": "code",
   "execution_count": null,
   "metadata": {},
   "outputs": [],
   "source": []
  },
  {
   "cell_type": "code",
   "execution_count": null,
   "metadata": {},
   "outputs": [],
   "source": []
  },
  {
   "cell_type": "code",
   "execution_count": 35,
   "metadata": {},
   "outputs": [
    {
     "data": {
      "text/plain": [
       "array([[ 8.81e-01,  3.76e-01,  1.75e-01, -2.18e-01, -2.99e-01, -1.78e-01,\n",
       "         2.63e-01],\n",
       "       [-2.14e-01, -3.77e-02,  2.96e-02,  1.49e-01,  1.43e-01,  7.10e-02,\n",
       "        -1.41e-01],\n",
       "       [ 1.09e-02,  6.09e-04, -3.24e-03, -9.56e-03, -8.03e-03, -2.65e-03,\n",
       "         1.20e-02]])"
      ]
     },
     "execution_count": 35,
     "metadata": {},
     "output_type": "execute_result"
    }
   ],
   "source": [
    "np.dot(inv(np.dot(A.T , A)) , A.T)"
   ]
  },
  {
   "cell_type": "code",
   "execution_count": null,
   "metadata": {},
   "outputs": [],
   "source": []
  },
  {
   "cell_type": "code",
   "execution_count": 32,
   "metadata": {},
   "outputs": [],
   "source": [
    "a_left_inv = np.dot(inv(np.dot(A.T , A)) , A.T)"
   ]
  },
  {
   "cell_type": "code",
   "execution_count": 36,
   "metadata": {},
   "outputs": [
    {
     "data": {
      "text/plain": [
       "array([3.85e+00, 9.99e-02, 3.47e-03])"
      ]
     },
     "execution_count": 36,
     "metadata": {},
     "output_type": "execute_result"
    }
   ],
   "source": [
    "np.dot(a_left_inv, P)"
   ]
  },
  {
   "cell_type": "code",
   "execution_count": 37,
   "metadata": {},
   "outputs": [
    {
     "data": {
      "text/plain": [
       "array([3.85e+00, 9.99e-02, 3.47e-03])"
      ]
     },
     "execution_count": 37,
     "metadata": {},
     "output_type": "execute_result"
    }
   ],
   "source": [
    "c =np.dot(a_left_inv, P)\n",
    "c"
   ]
  },
  {
   "cell_type": "code",
   "execution_count": 50,
   "metadata": {
    "collapsed": true
   },
   "outputs": [
    {
     "data": {
      "text/plain": [
       "array([-1.50e+01, -1.49e+01, -1.48e+01, -1.47e+01, -1.46e+01, -1.45e+01,\n",
       "       -1.44e+01, -1.43e+01, -1.42e+01, -1.41e+01, -1.40e+01, -1.39e+01,\n",
       "       -1.38e+01, -1.37e+01, -1.36e+01, -1.35e+01, -1.34e+01, -1.33e+01,\n",
       "       -1.32e+01, -1.31e+01, -1.30e+01, -1.29e+01, -1.28e+01, -1.27e+01,\n",
       "       -1.26e+01, -1.25e+01, -1.24e+01, -1.23e+01, -1.22e+01, -1.21e+01,\n",
       "       -1.20e+01, -1.19e+01, -1.18e+01, -1.17e+01, -1.16e+01, -1.15e+01,\n",
       "       -1.14e+01, -1.13e+01, -1.12e+01, -1.11e+01, -1.10e+01, -1.09e+01,\n",
       "       -1.08e+01, -1.07e+01, -1.06e+01, -1.05e+01, -1.04e+01, -1.03e+01,\n",
       "       -1.02e+01, -1.01e+01, -1.00e+01, -9.90e+00, -9.80e+00, -9.70e+00,\n",
       "       -9.60e+00, -9.50e+00, -9.40e+00, -9.30e+00, -9.20e+00, -9.10e+00,\n",
       "       -9.00e+00, -8.90e+00, -8.80e+00, -8.70e+00, -8.60e+00, -8.50e+00,\n",
       "       -8.40e+00, -8.30e+00, -8.20e+00, -8.10e+00, -8.00e+00, -7.90e+00,\n",
       "       -7.80e+00, -7.70e+00, -7.60e+00, -7.50e+00, -7.40e+00, -7.30e+00,\n",
       "       -7.20e+00, -7.10e+00, -7.00e+00, -6.90e+00, -6.80e+00, -6.70e+00,\n",
       "       -6.60e+00, -6.50e+00, -6.40e+00, -6.30e+00, -6.20e+00, -6.10e+00,\n",
       "       -6.00e+00, -5.90e+00, -5.80e+00, -5.70e+00, -5.60e+00, -5.50e+00,\n",
       "       -5.40e+00, -5.30e+00, -5.20e+00, -5.10e+00, -5.00e+00, -4.90e+00,\n",
       "       -4.80e+00, -4.70e+00, -4.60e+00, -4.50e+00, -4.40e+00, -4.30e+00,\n",
       "       -4.20e+00, -4.10e+00, -4.00e+00, -3.90e+00, -3.80e+00, -3.70e+00,\n",
       "       -3.60e+00, -3.50e+00, -3.40e+00, -3.30e+00, -3.20e+00, -3.10e+00,\n",
       "       -3.00e+00, -2.90e+00, -2.80e+00, -2.70e+00, -2.60e+00, -2.50e+00,\n",
       "       -2.40e+00, -2.30e+00, -2.20e+00, -2.10e+00, -2.00e+00, -1.90e+00,\n",
       "       -1.80e+00, -1.70e+00, -1.60e+00, -1.50e+00, -1.40e+00, -1.30e+00,\n",
       "       -1.20e+00, -1.10e+00, -1.00e+00, -9.00e-01, -8.00e-01, -7.00e-01,\n",
       "       -6.00e-01, -5.00e-01, -4.00e-01, -3.00e-01, -2.00e-01, -1.00e-01,\n",
       "       -5.33e-14,  1.00e-01,  2.00e-01,  3.00e-01,  4.00e-01,  5.00e-01,\n",
       "        6.00e-01,  7.00e-01,  8.00e-01,  9.00e-01,  1.00e+00,  1.10e+00,\n",
       "        1.20e+00,  1.30e+00,  1.40e+00,  1.50e+00,  1.60e+00,  1.70e+00,\n",
       "        1.80e+00,  1.90e+00,  2.00e+00,  2.10e+00,  2.20e+00,  2.30e+00,\n",
       "        2.40e+00,  2.50e+00,  2.60e+00,  2.70e+00,  2.80e+00,  2.90e+00,\n",
       "        3.00e+00,  3.10e+00,  3.20e+00,  3.30e+00,  3.40e+00,  3.50e+00,\n",
       "        3.60e+00,  3.70e+00,  3.80e+00,  3.90e+00,  4.00e+00,  4.10e+00,\n",
       "        4.20e+00,  4.30e+00,  4.40e+00,  4.50e+00,  4.60e+00,  4.70e+00,\n",
       "        4.80e+00,  4.90e+00,  5.00e+00,  5.10e+00,  5.20e+00,  5.30e+00,\n",
       "        5.40e+00,  5.50e+00,  5.60e+00,  5.70e+00,  5.80e+00,  5.90e+00,\n",
       "        6.00e+00,  6.10e+00,  6.20e+00,  6.30e+00,  6.40e+00,  6.50e+00,\n",
       "        6.60e+00,  6.70e+00,  6.80e+00,  6.90e+00,  7.00e+00,  7.10e+00,\n",
       "        7.20e+00,  7.30e+00,  7.40e+00,  7.50e+00,  7.60e+00,  7.70e+00,\n",
       "        7.80e+00,  7.90e+00,  8.00e+00,  8.10e+00,  8.20e+00,  8.30e+00,\n",
       "        8.40e+00,  8.50e+00,  8.60e+00,  8.70e+00,  8.80e+00,  8.90e+00,\n",
       "        9.00e+00,  9.10e+00,  9.20e+00,  9.30e+00,  9.40e+00,  9.50e+00,\n",
       "        9.60e+00,  9.70e+00,  9.80e+00,  9.90e+00,  1.00e+01,  1.01e+01,\n",
       "        1.02e+01,  1.03e+01,  1.04e+01,  1.05e+01,  1.06e+01,  1.07e+01,\n",
       "        1.08e+01,  1.09e+01,  1.10e+01,  1.11e+01,  1.12e+01,  1.13e+01,\n",
       "        1.14e+01,  1.15e+01,  1.16e+01,  1.17e+01,  1.18e+01,  1.19e+01,\n",
       "        1.20e+01,  1.21e+01,  1.22e+01,  1.23e+01,  1.24e+01,  1.25e+01,\n",
       "        1.26e+01,  1.27e+01,  1.28e+01,  1.29e+01,  1.30e+01,  1.31e+01,\n",
       "        1.32e+01,  1.33e+01,  1.34e+01,  1.35e+01,  1.36e+01,  1.37e+01,\n",
       "        1.38e+01,  1.39e+01,  1.40e+01,  1.41e+01,  1.42e+01,  1.43e+01,\n",
       "        1.44e+01,  1.45e+01,  1.46e+01,  1.47e+01,  1.48e+01,  1.49e+01])"
      ]
     },
     "execution_count": 50,
     "metadata": {},
     "output_type": "execute_result"
    }
   ],
   "source": [
    "T = np.arange(-15,15,0.1)\n",
    "T"
   ]
  },
  {
   "cell_type": "code",
   "execution_count": 42,
   "metadata": {},
   "outputs": [],
   "source": [
    "Pt = np.zeros(len(T))"
   ]
  },
  {
   "cell_type": "code",
   "execution_count": 44,
   "metadata": {},
   "outputs": [
    {
     "data": {
      "text/plain": [
       "0"
      ]
     },
     "execution_count": 44,
     "metadata": {},
     "output_type": "execute_result"
    }
   ],
   "source": [
    "B = 0\n",
    "B"
   ]
  },
  {
   "cell_type": "code",
   "execution_count": 51,
   "metadata": {
    "scrolled": true
   },
   "outputs": [
    {
     "data": {
      "text/plain": [
       "array([3.13, 3.13, 3.13, 3.13, 3.13, 3.13, 3.13, 3.13, 3.13, 3.13, 3.13,\n",
       "       3.13, 3.13, 3.13, 3.13, 3.13, 3.13, 3.13, 3.13, 3.13, 3.13, 3.13,\n",
       "       3.14, 3.14, 3.14, 3.14, 3.14, 3.14, 3.14, 3.15, 3.15, 3.15, 3.15,\n",
       "       3.15, 3.15, 3.16, 3.16, 3.16, 3.16, 3.16, 3.17, 3.17, 3.17, 3.17,\n",
       "       3.18, 3.18, 3.18, 3.19, 3.19, 3.19, 3.19, 3.2 , 3.2 , 3.2 , 3.21,\n",
       "       3.21, 3.21, 3.22, 3.22, 3.22, 3.23, 3.23, 3.24, 3.24, 3.24, 3.25,\n",
       "       3.25, 3.26, 3.26, 3.26, 3.27, 3.27, 3.28, 3.28, 3.29, 3.29, 3.3 ,\n",
       "       3.3 , 3.31, 3.31, 3.32, 3.32, 3.33, 3.33, 3.34, 3.34, 3.35, 3.35,\n",
       "       3.36, 3.37, 3.37, 3.38, 3.38, 3.39, 3.39, 3.4 , 3.41, 3.41, 3.42,\n",
       "       3.43, 3.43, 3.44, 3.45, 3.45, 3.46, 3.47, 3.47, 3.48, 3.49, 3.49,\n",
       "       3.5 , 3.51, 3.52, 3.52, 3.53, 3.54, 3.55, 3.55, 3.56, 3.57, 3.58,\n",
       "       3.58, 3.59, 3.6 , 3.61, 3.62, 3.63, 3.63, 3.64, 3.65, 3.66, 3.67,\n",
       "       3.68, 3.69, 3.69, 3.7 , 3.71, 3.72, 3.73, 3.74, 3.75, 3.76, 3.77,\n",
       "       3.78, 3.79, 3.8 , 3.81, 3.82, 3.83, 3.84, 3.85, 3.86, 3.87, 3.88,\n",
       "       3.89, 3.9 , 3.91, 3.92, 3.93, 3.94, 3.95, 3.96, 3.97, 3.98, 3.99,\n",
       "       4.  , 4.01, 4.02, 4.04, 4.05, 4.06, 4.07, 4.08, 4.09, 4.1 , 4.12,\n",
       "       4.13, 4.14, 4.15, 4.16, 4.18, 4.19, 4.2 , 4.21, 4.22, 4.24, 4.25,\n",
       "       4.26, 4.27, 4.29, 4.3 , 4.31, 4.33, 4.34, 4.35, 4.36, 4.38, 4.39,\n",
       "       4.4 , 4.42, 4.43, 4.44, 4.46, 4.47, 4.49, 4.5 , 4.51, 4.53, 4.54,\n",
       "       4.56, 4.57, 4.58, 4.6 , 4.61, 4.63, 4.64, 4.66, 4.67, 4.68, 4.7 ,\n",
       "       4.71, 4.73, 4.74, 4.76, 4.77, 4.79, 4.8 , 4.82, 4.84, 4.85, 4.87,\n",
       "       4.88, 4.9 , 4.91, 4.93, 4.95, 4.96, 4.98, 4.99, 5.01, 5.03, 5.04,\n",
       "       5.06, 5.07, 5.09, 5.11, 5.12, 5.14, 5.16, 5.17, 5.19, 5.21, 5.23,\n",
       "       5.24, 5.26, 5.28, 5.29, 5.31, 5.33, 5.35, 5.36, 5.38, 5.4 , 5.42,\n",
       "       5.44, 5.45, 5.47, 5.49, 5.51, 5.53, 5.54, 5.56, 5.58, 5.6 , 5.62,\n",
       "       5.64, 5.66, 5.67, 5.69, 5.71, 5.73, 5.75, 5.77, 5.79, 5.81, 5.83,\n",
       "       5.85, 5.87, 5.89, 5.9 , 5.92, 5.94, 5.96, 5.98, 6.  , 6.02, 6.04,\n",
       "       6.06, 6.08, 6.1 ])"
      ]
     },
     "execution_count": 51,
     "metadata": {},
     "output_type": "execute_result"
    }
   ],
   "source": [
    "# Pt is the third degree polynomial approx\n",
    "B = 0\n",
    "for i in range(len(T)):\n",
    "    for j in range(len(c)):\n",
    "        B += c[j] * (T[i] ** j)\n",
    "    Pt[i] = B\n",
    "    B = 0\n",
    "Pt"
   ]
  },
  {
   "cell_type": "code",
   "execution_count": 48,
   "metadata": {},
   "outputs": [
    {
     "data": {
      "image/png": "[encoded data removed]",
      "text/plain": [
       "<Figure size 432x288 with 1 Axes>"
      ]
     },
     "metadata": {},
     "output_type": "display_data"
    }
   ],
   "source": [
    "\n",
    "\n",
    "plt.plot(T, Pt)\n",
    "plt.scatter(t, P)\n",
    "\n",
    "plt.grid()\n",
    "plt.show()"
   ]
  },
  {
   "cell_type": "code",
   "execution_count": null,
   "metadata": {},
   "outputs": [],
   "source": []
  }
 ],
 "metadata": {
  "kernelspec": {
   "display_name": "Python 3",
   "language": "python",
   "name": "python3"
  },
  "language_info": {
   "codemirror_mode": {
    "name": "ipython",
    "version": 3
   },
   "file_extension": ".py",
   "mimetype": "text/x-python",
   "name": "python",
   "nbconvert_exporter": "python",
   "pygments_lexer": "ipython3",
   "version": "3.7.1"
  }
 },
 "nbformat": 4,
 "nbformat_minor": 2
}
