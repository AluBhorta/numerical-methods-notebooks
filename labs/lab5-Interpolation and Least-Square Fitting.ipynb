{
 "cells": [
  {
   "cell_type": "code",
   "execution_count": 53,
   "metadata": {},
   "outputs": [],
   "source": [
    "import numpy as np\n",
    "import matplotlib.pyplot as plt\n",
    "\n",
    "np.set_printoptions(precision=2)"
   ]
  },
  {
   "cell_type": "code",
   "execution_count": 35,
   "metadata": {},
   "outputs": [],
   "source": [
    "# (1, 4), (3, 7), (4, 2), (7, 2), (10, 5), (12, 10), (15, 4)\n",
    "\n",
    "t = np.array([1,3,4,7,10,12,15])\n",
    "y = np.array([4,7,2,2,5,10,4])"
   ]
  },
  {
   "cell_type": "code",
   "execution_count": 75,
   "metadata": {},
   "outputs": [
    {
     "data": {
      "text/plain": [
       "array([[ 1,  3,  4,  7, 10, 12, 15]])"
      ]
     },
     "execution_count": 75,
     "metadata": {},
     "output_type": "execute_result"
    }
   ],
   "source": [
    "t[np.newaxis]"
   ]
  },
  {
   "cell_type": "code",
   "execution_count": 14,
   "metadata": {},
   "outputs": [
    {
     "data": {
      "text/plain": [
       "array([], dtype=float64)"
      ]
     },
     "execution_count": 14,
     "metadata": {},
     "output_type": "execute_result"
    }
   ],
   "source": [
    "A = np.array([])\n",
    "A"
   ]
  },
  {
   "cell_type": "code",
   "execution_count": 20,
   "metadata": {},
   "outputs": [
    {
     "data": {
      "text/plain": [
       "array([[0., 0., 0., 0., 0., 0., 0.],\n",
       "       [0., 0., 0., 0., 0., 0., 0.],\n",
       "       [0., 0., 0., 0., 0., 0., 0.],\n",
       "       [0., 0., 0., 0., 0., 0., 0.],\n",
       "       [0., 0., 0., 0., 0., 0., 0.],\n",
       "       [0., 0., 0., 0., 0., 0., 0.],\n",
       "       [0., 0., 0., 0., 0., 0., 0.]])"
      ]
     },
     "execution_count": 20,
     "metadata": {},
     "output_type": "execute_result"
    }
   ],
   "source": [
    "A = np.zeros((7,7))\n",
    "A\n"
   ]
  },
  {
   "cell_type": "code",
   "execution_count": 21,
   "metadata": {},
   "outputs": [
    {
     "data": {
      "text/plain": [
       "array([[1.00e+00, 1.00e+00, 1.00e+00, 1.00e+00, 1.00e+00, 1.00e+00,\n",
       "        1.00e+00],\n",
       "       [1.00e+00, 3.00e+00, 9.00e+00, 2.70e+01, 8.10e+01, 2.43e+02,\n",
       "        7.29e+02],\n",
       "       [1.00e+00, 4.00e+00, 1.60e+01, 6.40e+01, 2.56e+02, 1.02e+03,\n",
       "        4.10e+03],\n",
       "       [1.00e+00, 7.00e+00, 4.90e+01, 3.43e+02, 2.40e+03, 1.68e+04,\n",
       "        1.18e+05],\n",
       "       [1.00e+00, 1.00e+01, 1.00e+02, 1.00e+03, 1.00e+04, 1.00e+05,\n",
       "        1.00e+06],\n",
       "       [1.00e+00, 1.20e+01, 1.44e+02, 1.73e+03, 2.07e+04, 2.49e+05,\n",
       "        2.99e+06],\n",
       "       [1.00e+00, 1.50e+01, 2.25e+02, 3.38e+03, 5.06e+04, 7.59e+05,\n",
       "        1.14e+07]])"
      ]
     },
     "execution_count": 21,
     "metadata": {},
     "output_type": "execute_result"
    }
   ],
   "source": [
    "for i in range(7):\n",
    "    for j in range(7):\n",
    "        A[i,j] = t[i] ** (j)\n",
    "        \n",
    "A"
   ]
  },
  {
   "cell_type": "code",
   "execution_count": 23,
   "metadata": {},
   "outputs": [
    {
     "data": {
      "text/plain": [
       "[[1.0, 1.0, 1.0, 1.0, 1.0, 1.0, 1.0],\n",
       " [1.0, 3.0, 9.0, 27.0, 81.0, 243.0, 729.0],\n",
       " [1.0, 4.0, 16.0, 64.0, 256.0, 1024.0, 4096.0],\n",
       " [1.0, 7.0, 49.0, 343.0, 2401.0, 16807.0, 117649.0],\n",
       " [1.0, 10.0, 100.0, 1000.0, 10000.0, 100000.0, 1000000.0],\n",
       " [1.0, 12.0, 144.0, 1728.0, 20736.0, 248832.0, 2985984.0],\n",
       " [1.0, 15.0, 225.0, 3375.0, 50625.0, 759375.0, 11390625.0]]"
      ]
     },
     "execution_count": 23,
     "metadata": {},
     "output_type": "execute_result"
    }
   ],
   "source": [
    "A.tolist()"
   ]
  },
  {
   "cell_type": "code",
   "execution_count": 25,
   "metadata": {},
   "outputs": [],
   "source": [
    " from numpy.linalg import det, inv"
   ]
  },
  {
   "cell_type": "code",
   "execution_count": 26,
   "metadata": {},
   "outputs": [
    {
     "data": {
      "text/plain": [
       "860409498009607.1"
      ]
     },
     "execution_count": 26,
     "metadata": {},
     "output_type": "execute_result"
    }
   ],
   "source": [
    "det_A = det(A)\n",
    "det_A"
   ]
  },
  {
   "cell_type": "code",
   "execution_count": 29,
   "metadata": {},
   "outputs": [
    {
     "data": {
      "text/plain": [
       "array([[ 3.03e+00, -8.33e+00,  7.95e+00, -2.50e+00,  1.33e+00, -5.30e-01,\n",
       "         4.55e-02],\n",
       "       [-2.96e+00,  1.37e+01, -1.37e+01,  4.58e+00, -2.50e+00,  1.00e+00,\n",
       "        -8.68e-02],\n",
       "       [ 1.12e+00, -6.64e+00,  7.27e+00, -2.71e+00,  1.54e+00, -6.30e-01,\n",
       "         5.53e-02],\n",
       "       [-2.09e-01,  1.43e+00, -1.67e+00,  7.08e-01, -4.29e-01,  1.80e-01,\n",
       "        -1.62e-02],\n",
       "       [ 2.06e-02, -1.54e-01,  1.87e-01, -8.85e-02,  5.82e-02, -2.53e-02,\n",
       "         2.37e-03],\n",
       "       [-1.02e-03,  8.10e-03, -1.01e-02,  5.21e-03, -3.70e-03,  1.68e-03,\n",
       "        -1.67e-04],\n",
       "       [ 2.00e-05, -1.65e-04,  2.10e-04, -1.16e-04,  8.82e-05, -4.21e-05,\n",
       "         4.51e-06]])"
      ]
     },
     "execution_count": 29,
     "metadata": {},
     "output_type": "execute_result"
    }
   ],
   "source": [
    "inv(A)"
   ]
  },
  {
   "cell_type": "code",
   "execution_count": 34,
   "metadata": {},
   "outputs": [
    {
     "data": {
      "text/markdown": [
       "\n",
       "# Ac = y"
      ],
      "text/plain": [
       "<IPython.core.display.Markdown object>"
      ]
     },
     "metadata": {},
     "output_type": "display_data"
    }
   ],
   "source": [
    "%%markdown\n",
    "\n",
    "# Ac = y"
   ]
  },
  {
   "cell_type": "code",
   "execution_count": 36,
   "metadata": {},
   "outputs": [],
   "source": [
    "# c\n",
    "\n",
    "c = inv(A) * y"
   ]
  },
  {
   "cell_type": "code",
   "execution_count": 87,
   "metadata": {},
   "outputs": [
    {
     "data": {
      "text/plain": [
       "(7, 7)"
      ]
     },
     "execution_count": 87,
     "metadata": {},
     "output_type": "execute_result"
    }
   ],
   "source": [
    "c.shape"
   ]
  },
  {
   "cell_type": "code",
   "execution_count": 39,
   "metadata": {
    "scrolled": true
   },
   "outputs": [
    {
     "data": {
      "text/plain": [
       "[[12.12121212121216,\n",
       "  -58.33333333333307,\n",
       "  15.909090909090962,\n",
       "  -4.999999999999817,\n",
       "  6.666666666666381,\n",
       "  -5.303030303029987,\n",
       "  0.18181818181816606],\n",
       " [-11.832611832611885,\n",
       "  95.83333333333279,\n",
       "  -27.462121212121136,\n",
       "  9.166666666666341,\n",
       "  -12.507936507935963,\n",
       "  10.037878787878206,\n",
       "  -0.3471861471861203],\n",
       " [4.469937469937488,\n",
       "  -46.511574074073735,\n",
       "  14.531565656565496,\n",
       "  -5.415277777777602,\n",
       "  7.7156084656081365,\n",
       "  -6.295875420875089,\n",
       "  0.22139249639248246],\n",
       " [-0.8370210036876744,\n",
       "  10.035879629629568,\n",
       "  -3.332491582491546,\n",
       "  1.4155092592592224,\n",
       "  -2.147266313932904,\n",
       "  1.7971380471379708,\n",
       "  -0.06484487734487421],\n",
       " [0.08249158249158293,\n",
       "  -1.0798611111111052,\n",
       "  0.37373737373736987,\n",
       "  -0.17708333333332943,\n",
       "  0.29100529100528244,\n",
       "  -0.25252525252524405,\n",
       "  0.009469696969696621],\n",
       " [-0.00408850408850411,\n",
       "  0.056712962962962646,\n",
       "  -0.020202020202019996,\n",
       "  0.01041666666666646,\n",
       "  -0.01851851851851806,\n",
       "  0.016835016835016377,\n",
       "  -0.0006673881673881486],\n",
       " [8.016674683341387e-05,\n",
       "  -0.0011574074074074004,\n",
       "  0.00042087542087541647,\n",
       "  -0.00023148148148147715,\n",
       "  0.00044091710758376474,\n",
       "  -0.00042087542087541137,\n",
       "  1.8037518037517644e-05]]"
      ]
     },
     "execution_count": 39,
     "metadata": {},
     "output_type": "execute_result"
    }
   ],
   "source": [
    "c.tolist()"
   ]
  },
  {
   "cell_type": "code",
   "execution_count": 40,
   "metadata": {},
   "outputs": [
    {
     "data": {
      "image/png": "[encoded data removed]",
      "text/plain": [
       "<Figure size 432x288 with 1 Axes>"
      ]
     },
     "metadata": {},
     "output_type": "display_data"
    }
   ],
   "source": [
    "plt.scatter(t,y)\n",
    "plt.show()"
   ]
  },
  {
   "cell_type": "code",
   "execution_count": 50,
   "metadata": {},
   "outputs": [
    {
     "data": {
      "text/plain": [
       "array([ 1. ,  1.5,  2. ,  2.5,  3. ,  3.5,  4. ,  4.5,  5. ,  5.5,  6. ,\n",
       "        6.5,  7. ,  7.5,  8. ,  8.5,  9. ,  9.5, 10. , 10.5, 11. , 11.5,\n",
       "       12. , 12.5, 13. , 13.5, 14. , 14.5])"
      ]
     },
     "execution_count": 50,
     "metadata": {},
     "output_type": "execute_result"
    }
   ],
   "source": [
    "t_rng = np.arange(1.0, 15.0, 0.5)\n",
    "t_rng \n"
   ]
  },
  {
   "cell_type": "code",
   "execution_count": 60,
   "metadata": {},
   "outputs": [
    {
     "data": {
      "text/plain": [
       "array([0., 0., 0., 0., 0., 0., 0., 0., 0., 0., 0., 0., 0., 0., 0., 0., 0.,\n",
       "       0., 0., 0., 0., 0., 0., 0., 0., 0., 0., 0.])"
      ]
     },
     "execution_count": 60,
     "metadata": {},
     "output_type": "execute_result"
    }
   ],
   "source": [
    "P = np.zeros(len(t_rng))\n",
    "P"
   ]
  },
  {
   "cell_type": "code",
   "execution_count": 78,
   "metadata": {},
   "outputs": [
    {
     "data": {
      "text/plain": [
       "array([0., 0., 0., 0., 0., 0., 0., 0., 0., 0., 0., 0., 0., 0., 0., 0., 0.,\n",
       "       0., 0., 0., 0., 0., 0., 0., 0., 0., 0., 0.])"
      ]
     },
     "execution_count": 78,
     "metadata": {},
     "output_type": "execute_result"
    }
   ],
   "source": [
    "B = np.zeros(len(t_rng))\n",
    "B"
   ]
  },
  {
   "cell_type": "code",
   "execution_count": 86,
   "metadata": {},
   "outputs": [
    {
     "ename": "ValueError",
     "evalue": "operands could not be broadcast together with shapes (7,7) (28,) ",
     "output_type": "error",
     "traceback": [
      "\u001b[1;31m---------------------------------------------------------------------------\u001b[0m",
      "\u001b[1;31mValueError\u001b[0m                                Traceback (most recent call last)",
      "\u001b[1;32m<ipython-input-86-f9e72c6f9c3c>\u001b[0m in \u001b[0;36m<module>\u001b[1;34m()\u001b[0m\n\u001b[0;32m      2\u001b[0m     \u001b[1;32mfor\u001b[0m \u001b[0mj\u001b[0m \u001b[1;32min\u001b[0m \u001b[0mrange\u001b[0m\u001b[1;33m(\u001b[0m\u001b[0mlen\u001b[0m\u001b[1;33m(\u001b[0m\u001b[0mt\u001b[0m\u001b[1;33m)\u001b[0m\u001b[1;33m)\u001b[0m\u001b[1;33m:\u001b[0m\u001b[1;33m\u001b[0m\u001b[0m\n\u001b[0;32m      3\u001b[0m         \u001b[0mB\u001b[0m\u001b[1;33m[\u001b[0m\u001b[0mj\u001b[0m\u001b[1;33m]\u001b[0m \u001b[1;33m=\u001b[0m \u001b[0mt_rng\u001b[0m\u001b[1;33m[\u001b[0m\u001b[0mi\u001b[0m\u001b[1;33m]\u001b[0m \u001b[1;33m**\u001b[0m \u001b[0mj\u001b[0m\u001b[1;33m\u001b[0m\u001b[0m\n\u001b[1;32m----> 4\u001b[1;33m     \u001b[0mP\u001b[0m \u001b[1;33m=\u001b[0m \u001b[0mnp\u001b[0m\u001b[1;33m.\u001b[0m\u001b[0mtranspose\u001b[0m\u001b[1;33m(\u001b[0m\u001b[0mc\u001b[0m\u001b[1;33m)\u001b[0m \u001b[1;33m*\u001b[0m \u001b[0mnp\u001b[0m\u001b[1;33m.\u001b[0m\u001b[0mtranspose\u001b[0m\u001b[1;33m(\u001b[0m\u001b[0mB\u001b[0m\u001b[1;33m)\u001b[0m\u001b[1;33m\u001b[0m\u001b[0m\n\u001b[0m\u001b[0;32m      5\u001b[0m \u001b[0mB\u001b[0m\u001b[1;33m\u001b[0m\u001b[0m\n",
      "\u001b[1;31mValueError\u001b[0m: operands could not be broadcast together with shapes (7,7) (28,) "
     ]
    }
   ],
   "source": [
    "for i in range(len(t_rng)):\n",
    "    for j in range(len(t)):\n",
    "        B[j] = t_rng[i] ** j\n",
    "    P = np.transpose(c) * np.transpose(B)\n",
    "B"
   ]
  },
  {
   "cell_type": "code",
   "execution_count": 85,
   "metadata": {},
   "outputs": [
    {
     "data": {
      "text/plain": [
       "[[12.12121212121216,\n",
       "  -58.33333333333307,\n",
       "  15.909090909090962,\n",
       "  -4.999999999999817,\n",
       "  6.666666666666381,\n",
       "  -5.303030303029987,\n",
       "  0.18181818181816606],\n",
       " [-11.832611832611885,\n",
       "  95.83333333333279,\n",
       "  -27.462121212121136,\n",
       "  9.166666666666341,\n",
       "  -12.507936507935963,\n",
       "  10.037878787878206,\n",
       "  -0.3471861471861203],\n",
       " [4.469937469937488,\n",
       "  -46.511574074073735,\n",
       "  14.531565656565496,\n",
       "  -5.415277777777602,\n",
       "  7.7156084656081365,\n",
       "  -6.295875420875089,\n",
       "  0.22139249639248246],\n",
       " [-0.8370210036876744,\n",
       "  10.035879629629568,\n",
       "  -3.332491582491546,\n",
       "  1.4155092592592224,\n",
       "  -2.147266313932904,\n",
       "  1.7971380471379708,\n",
       "  -0.06484487734487421],\n",
       " [0.08249158249158293,\n",
       "  -1.0798611111111052,\n",
       "  0.37373737373736987,\n",
       "  -0.17708333333332943,\n",
       "  0.29100529100528244,\n",
       "  -0.25252525252524405,\n",
       "  0.009469696969696621],\n",
       " [-0.00408850408850411,\n",
       "  0.056712962962962646,\n",
       "  -0.020202020202019996,\n",
       "  0.01041666666666646,\n",
       "  -0.01851851851851806,\n",
       "  0.016835016835016377,\n",
       "  -0.0006673881673881486],\n",
       " [8.016674683341387e-05,\n",
       "  -0.0011574074074074004,\n",
       "  0.00042087542087541647,\n",
       "  -0.00023148148148147715,\n",
       "  0.00044091710758376474,\n",
       "  -0.00042087542087541137,\n",
       "  1.8037518037517644e-05]]"
      ]
     },
     "execution_count": 85,
     "metadata": {},
     "output_type": "execute_result"
    }
   ],
   "source": [
    "c.tolist()"
   ]
  },
  {
   "cell_type": "code",
   "execution_count": null,
   "metadata": {},
   "outputs": [],
   "source": []
  },
  {
   "cell_type": "code",
   "execution_count": null,
   "metadata": {},
   "outputs": [],
   "source": [
    "for i in range(len(t_rng)):\n",
    "    P"
   ]
  },
  {
   "cell_type": "code",
   "execution_count": null,
   "metadata": {},
   "outputs": [],
   "source": []
  }
 ],
 "metadata": {
  "kernelspec": {
   "display_name": "Python 3",
   "language": "python",
   "name": "python3"
  },
  "language_info": {
   "codemirror_mode": {
    "name": "ipython",
    "version": 3
   },
   "file_extension": ".py",
   "mimetype": "text/x-python",
   "name": "python",
   "nbconvert_exporter": "python",
   "pygments_lexer": "ipython3",
   "version": "3.7.1"
  }
 },
 "nbformat": 4,
 "nbformat_minor": 2
}
