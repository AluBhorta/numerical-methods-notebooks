{
 "cells": [
  {
   "cell_type": "code",
   "execution_count": 1,
   "metadata": {},
   "outputs": [],
   "source": [
    "import numpy as np\n",
    "import matplotlib.pyplot as plt\n",
    "\n",
    "np.set_printoptions(5)"
   ]
  },
  {
   "cell_type": "code",
   "execution_count": 55,
   "metadata": {},
   "outputs": [
    {
     "data": {
      "text/plain": [
       "(array([0. , 0.2, 0.4, 0.6, 0.8, 0.9]),\n",
       " array([1.     , 1.2214 , 1.49182, 1.82212, 2.22554, 3.12356]))"
      ]
     },
     "execution_count": 55,
     "metadata": {},
     "output_type": "execute_result"
    }
   ],
   "source": [
    "x = np.array([0, 0.2, 0.4, 0.6, 0.8, 0.9])\n",
    "y = np.array([\n",
    "    1,\n",
    "    1.22140,\n",
    "    1.49182,\n",
    "    1.82212,\n",
    "    2.22554,\n",
    "    3.12356\n",
    "])\n",
    "\n",
    "x,y"
   ]
  },
  {
   "cell_type": "code",
   "execution_count": 7,
   "metadata": {},
   "outputs": [
    {
     "data": {
      "image/png": "[encoded data removed]",
      "text/plain": [
       "<Figure size 432x288 with 1 Axes>"
      ]
     },
     "metadata": {},
     "output_type": "display_data"
    }
   ],
   "source": [
    "plt.scatter(x,y)\n",
    "plt.show()"
   ]
  },
  {
   "cell_type": "code",
   "execution_count": 10,
   "metadata": {},
   "outputs": [],
   "source": [
    "def L(k, xval):\n",
    "    res = 1\n",
    "    for i in range(len(x)):\n",
    "        if i != k:\n",
    "            res *= (xval - x[i]) / (x[k] - x[i])\n",
    "    \n",
    "    return res"
   ]
  },
  {
   "cell_type": "code",
   "execution_count": 20,
   "metadata": {},
   "outputs": [
    {
     "data": {
      "text/plain": [
       "-29106.0"
      ]
     },
     "execution_count": 20,
     "metadata": {},
     "output_type": "execute_result"
    }
   ],
   "source": [
    "L(2,3)"
   ]
  },
  {
   "cell_type": "code",
   "execution_count": 50,
   "metadata": {},
   "outputs": [
    {
     "data": {
      "text/plain": [
       "90"
      ]
     },
     "execution_count": 50,
     "metadata": {},
     "output_type": "execute_result"
    }
   ],
   "source": [
    "xx = np.arange(0, 0.9, 0.01)\n",
    "len(xx)"
   ]
  },
  {
   "cell_type": "code",
   "execution_count": 19,
   "metadata": {},
   "outputs": [],
   "source": [
    "yy = np.zeros(len(xx))"
   ]
  },
  {
   "cell_type": "code",
   "execution_count": 51,
   "metadata": {},
   "outputs": [
    {
     "data": {
      "text/plain": [
       "array([1.     , 0.92016, 0.85912, 0.8149 , 0.78559, 0.76945, 0.7648 ,\n",
       "       0.77011, 0.78393, 0.80494, 0.83189, 0.86364, 0.89914, 0.93745,\n",
       "       0.9777 , 1.01909, 1.06093, 1.1026 , 1.14354, 1.18327, 1.2214 ,\n",
       "       1.25757, 1.29151, 1.32298, 1.35184, 1.37796, 1.40129, 1.42181,\n",
       "       1.43954, 1.45456, 1.46698, 1.47693, 1.48458, 1.49015, 1.49385,\n",
       "       1.49592, 1.49665, 1.4963 , 1.49518, 1.49358, 1.49182, 1.49021,\n",
       "       1.48906, 1.48868, 1.48938, 1.49145, 1.49517, 1.50081, 1.50861,\n",
       "       1.51881, 1.5316 , 1.54715, 1.56561, 1.58708, 1.61164, 1.63931,\n",
       "       1.67008, 1.70388, 1.74061, 1.78009, 1.82212, 1.86641, 1.91261,\n",
       "       1.96032, 2.00906, 2.05829, 2.10737, 2.15562, 2.20223, 2.24636,\n",
       "       2.28704, 2.32323, 2.35379, 2.37748, 2.39298, 2.39883, 2.3935 ,\n",
       "       2.37533, 2.34255, 2.29329, 2.22554, 2.13718, 2.02596, 1.88951,\n",
       "       1.72533, 1.53076, 1.30303, 1.03923, 0.73629, 0.391  ])"
      ]
     },
     "execution_count": 51,
     "metadata": {},
     "output_type": "execute_result"
    }
   ],
   "source": [
    "y2 = y[0]*L(0, xx) + y[1]*L(1, xx) + y[2]*L(2, xx) + y[3]*L(3, xx) + y[4]*L(4, xx)\n",
    "y2"
   ]
  },
  {
   "cell_type": "code",
   "execution_count": 56,
   "metadata": {},
   "outputs": [
    {
     "data": {
      "image/png": "[encoded data removed]",
      "text/plain": [
       "<Figure size 432x288 with 1 Axes>"
      ]
     },
     "metadata": {},
     "output_type": "display_data"
    }
   ],
   "source": [
    "plt.plot(xx, y2, label='Lagrange polynomial', color='g')\n",
    "plt.scatter(x,y, label='Given values')\n",
    "plt.legend()\n",
    "plt.show()"
   ]
  },
  {
   "cell_type": "code",
   "execution_count": null,
   "metadata": {},
   "outputs": [],
   "source": []
  }
 ],
 "metadata": {
  "kernelspec": {
   "display_name": "Python 3",
   "language": "python",
   "name": "python3"
  },
  "language_info": {
   "codemirror_mode": {
    "name": "ipython",
    "version": 3
   },
   "file_extension": ".py",
   "mimetype": "text/x-python",
   "name": "python",
   "nbconvert_exporter": "python",
   "pygments_lexer": "ipython3",
   "version": "3.6.5"
  }
 },
 "nbformat": 4,
 "nbformat_minor": 2
}
