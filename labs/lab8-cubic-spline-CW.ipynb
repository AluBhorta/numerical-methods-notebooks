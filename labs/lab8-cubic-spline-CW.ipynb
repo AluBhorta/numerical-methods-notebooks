{
 "cells": [
  {
   "cell_type": "code",
   "execution_count": 73,
   "metadata": {},
   "outputs": [],
   "source": [
    "import numpy as np\n",
    "import matplotlib.pyplot as plt \n",
    "\n",
    "np.set_printoptions(5)"
   ]
  },
  {
   "cell_type": "code",
   "execution_count": 114,
   "metadata": {},
   "outputs": [],
   "source": [
    "x = np.array([-10, 0, 10, 20, 30])\n",
    "y = np.array([.99815, .99987, .99973, .99823, .99567])"
   ]
  },
  {
   "cell_type": "code",
   "execution_count": 115,
   "metadata": {},
   "outputs": [
    {
     "data": {
      "text/plain": [
       "(array([-10,   0,  10,  20,  30]),\n",
       " array([0.99815, 0.99987, 0.99973, 0.99823, 0.99567]))"
      ]
     },
     "execution_count": 115,
     "metadata": {},
     "output_type": "execute_result"
    }
   ],
   "source": [
    "x, y"
   ]
  },
  {
   "cell_type": "code",
   "execution_count": 116,
   "metadata": {},
   "outputs": [
    {
     "data": {
      "text/plain": [
       "array([[0., 0., 0., 0., 0.],\n",
       "       [0., 0., 0., 0., 0.],\n",
       "       [0., 0., 0., 0., 0.],\n",
       "       [0., 0., 0., 0., 0.],\n",
       "       [0., 0., 0., 0., 0.]])"
      ]
     },
     "execution_count": 116,
     "metadata": {},
     "output_type": "execute_result"
    }
   ],
   "source": [
    "A = np.zeros((5,5))\n",
    "A"
   ]
  },
  {
   "cell_type": "code",
   "execution_count": 117,
   "metadata": {},
   "outputs": [
    {
     "data": {
      "text/plain": [
       "0.0"
      ]
     },
     "execution_count": 117,
     "metadata": {},
     "output_type": "execute_result"
    }
   ],
   "source": [
    "A[2][3]"
   ]
  },
  {
   "cell_type": "code",
   "execution_count": 118,
   "metadata": {},
   "outputs": [
    {
     "data": {
      "text/plain": [
       "array([[1., 0., 0., 0., 0.],\n",
       "       [0., 0., 0., 0., 0.],\n",
       "       [0., 0., 0., 0., 0.],\n",
       "       [0., 0., 0., 0., 0.],\n",
       "       [0., 0., 0., 0., 1.]])"
      ]
     },
     "execution_count": 118,
     "metadata": {},
     "output_type": "execute_result"
    }
   ],
   "source": [
    "A[0][0] = 1\n",
    "A[4][4] = 1\n",
    "A"
   ]
  },
  {
   "cell_type": "code",
   "execution_count": 119,
   "metadata": {},
   "outputs": [
    {
     "data": {
      "text/plain": [
       "array([[1., 0., 0., 0., 0.],\n",
       "       [1., 4., 1., 0., 0.],\n",
       "       [0., 1., 4., 1., 0.],\n",
       "       [0., 0., 1., 4., 1.],\n",
       "       [0., 0., 0., 0., 1.]])"
      ]
     },
     "execution_count": 119,
     "metadata": {},
     "output_type": "execute_result"
    }
   ],
   "source": [
    "for i in range(1,4):\n",
    "    A[i][i] = 4\n",
    "    A[i][i-1] = 1\n",
    "    A[i][i+1] = 1\n",
    "    \n",
    "A"
   ]
  },
  {
   "cell_type": "code",
   "execution_count": 120,
   "metadata": {},
   "outputs": [
    {
     "data": {
      "text/plain": [
       "array([0., 0., 0., 0., 0.])"
      ]
     },
     "execution_count": 120,
     "metadata": {},
     "output_type": "execute_result"
    }
   ],
   "source": [
    "b = np.zeros(5)\n",
    "b"
   ]
  },
  {
   "cell_type": "code",
   "execution_count": 121,
   "metadata": {},
   "outputs": [],
   "source": [
    "h = 10"
   ]
  },
  {
   "cell_type": "code",
   "execution_count": 122,
   "metadata": {},
   "outputs": [
    {
     "data": {
      "text/plain": [
       "array([ 0.000e+00, -1.116e-04, -8.160e-05, -6.360e-05,  0.000e+00])"
      ]
     },
     "execution_count": 122,
     "metadata": {},
     "output_type": "execute_result"
    }
   ],
   "source": [
    "for i in range(3):\n",
    "    b[i+1] = (6 * (y[i] - 2*y[i+1] + y[i+2])) / (h*h)\n",
    "    \n",
    "b"
   ]
  },
  {
   "cell_type": "code",
   "execution_count": 123,
   "metadata": {},
   "outputs": [],
   "source": [
    "from numpy.linalg import inv"
   ]
  },
  {
   "cell_type": "code",
   "execution_count": 124,
   "metadata": {},
   "outputs": [
    {
     "data": {
      "text/plain": [
       "array([[ 0.000e+00],\n",
       "       [-1.116e-04],\n",
       "       [-8.160e-05],\n",
       "       [-6.360e-05],\n",
       "       [ 0.000e+00]])"
      ]
     },
     "execution_count": 124,
     "metadata": {},
     "output_type": "execute_result"
    }
   ],
   "source": [
    "b[np.newaxis].T"
   ]
  },
  {
   "cell_type": "code",
   "execution_count": 126,
   "metadata": {},
   "outputs": [],
   "source": [
    "np.set_printoptions(6)"
   ]
  },
  {
   "cell_type": "code",
   "execution_count": 149,
   "metadata": {},
   "outputs": [
    {
     "data": {
      "text/plain": [
       "array([[ 0.00e+00],\n",
       "       [-2.52e-05],\n",
       "       [-1.08e-05],\n",
       "       [-1.32e-05],\n",
       "       [ 0.00e+00]])"
      ]
     },
     "execution_count": 149,
     "metadata": {},
     "output_type": "execute_result"
    }
   ],
   "source": [
    "M = (inv(A) @ b[np.newaxis].T)\n",
    "\n",
    "M"
   ]
  },
  {
   "cell_type": "code",
   "execution_count": 150,
   "metadata": {},
   "outputs": [
    {
     "name": "stdout",
     "output_type": "stream",
     "text": [
      "[0.]\n",
      "[-2.52e-05]\n",
      "[-1.08e-05]\n",
      "[-1.32e-05]\n",
      "[0.]\n"
     ]
    }
   ],
   "source": [
    "for i in range(5):\n",
    "    print(M[i])"
   ]
  },
  {
   "cell_type": "code",
   "execution_count": 151,
   "metadata": {},
   "outputs": [
    {
     "data": {
      "text/plain": [
       "(array([0., 0., 0., 0., 0.]),\n",
       " array([0., 0., 0., 0., 0.]),\n",
       " array([0., 0., 0., 0., 0.]),\n",
       " array([0., 0., 0., 0., 0.]))"
      ]
     },
     "execution_count": 151,
     "metadata": {},
     "output_type": "execute_result"
    }
   ],
   "source": [
    "aa = np.zeros(5)\n",
    "bb = np.zeros(5)\n",
    "cc = np.zeros(5)\n",
    "dd = np.zeros(5)\n",
    "\n",
    "aa,bb,cc,dd\n"
   ]
  },
  {
   "cell_type": "code",
   "execution_count": 152,
   "metadata": {},
   "outputs": [
    {
     "data": {
      "text/plain": [
       "(array([-4.2e-07,  2.4e-07, -4.0e-08,  2.2e-07,  0.0e+00]),\n",
       " array([ 0.00e+00, -1.26e-05, -5.40e-06, -6.60e-06,  0.00e+00]),\n",
       " array([ 2.14e-04,  8.80e-05, -9.20e-05, -2.12e-04,  0.00e+00]),\n",
       " array([0.99815, 0.99987, 0.99973, 0.99823, 0.     ]))"
      ]
     },
     "execution_count": 152,
     "metadata": {},
     "output_type": "execute_result"
    }
   ],
   "source": [
    "for i in range(4):\n",
    "    aa[i] = (M[i+1] - M[i]) / (6*h)\n",
    "    bb[i] = M[i] / 2\n",
    "    cc[i] = ((y[i+1] - y[i])/h) - ((M[i+1] + 2*M[i]) * (h / 6))\n",
    "    dd[i] = y[i]\n",
    "    \n",
    "aa,bb,cc,dd"
   ]
  },
  {
   "cell_type": "code",
   "execution_count": null,
   "metadata": {},
   "outputs": [],
   "source": []
  },
  {
   "cell_type": "code",
   "execution_count": 132,
   "metadata": {},
   "outputs": [
    {
     "data": {
      "text/plain": [
       "(array([-4.2e-05,  2.4e-05, -4.0e-06,  2.2e-05,  0.0e+00]),\n",
       " array([ 0.00e+00, -1.26e-05, -5.40e-06, -6.60e-06,  0.00e+00]),\n",
       " array([ 2.14e-04,  8.80e-05, -9.20e-05, -2.12e-04,  0.00e+00]),\n",
       " array([0.99815, 0.99987, 0.99973, 0.99823, 0.     ]))"
      ]
     },
     "execution_count": 132,
     "metadata": {},
     "output_type": "execute_result"
    }
   ],
   "source": [
    "aa,bb,cc,dd"
   ]
  },
  {
   "cell_type": "code",
   "execution_count": 131,
   "metadata": {},
   "outputs": [
    {
     "data": {
      "text/plain": [
       "array([[ 0.00e+00],\n",
       "       [-2.52e-05],\n",
       "       [-1.08e-05],\n",
       "       [-1.32e-05],\n",
       "       [ 0.00e+00]])"
      ]
     },
     "execution_count": 131,
     "metadata": {},
     "output_type": "execute_result"
    }
   ],
   "source": [
    "M"
   ]
  },
  {
   "cell_type": "code",
   "execution_count": 133,
   "metadata": {},
   "outputs": [
    {
     "data": {
      "text/plain": [
       "(array([-10,   0,  10,  20,  30]),\n",
       " array([0.99815, 0.99987, 0.99973, 0.99823, 0.99567]))"
      ]
     },
     "execution_count": 133,
     "metadata": {},
     "output_type": "execute_result"
    }
   ],
   "source": [
    "x,y"
   ]
  },
  {
   "cell_type": "code",
   "execution_count": null,
   "metadata": {},
   "outputs": [],
   "source": []
  },
  {
   "cell_type": "code",
   "execution_count": 153,
   "metadata": {},
   "outputs": [],
   "source": [
    "x1 = np.arange(-10, 0, 0.25)\n",
    "x2 = np.arange(0, 10, 0.25)\n",
    "x3 = np.arange(10, 20, 0.25)\n",
    "x4 = np.arange(20, 30, 0.25)\n"
   ]
  },
  {
   "cell_type": "code",
   "execution_count": 154,
   "metadata": {},
   "outputs": [
    {
     "data": {
      "text/plain": [
       "array([0., 0., 0., 0., 0., 0., 0., 0., 0., 0., 0., 0., 0., 0., 0., 0., 0.,\n",
       "       0., 0., 0., 0., 0., 0., 0., 0., 0., 0., 0., 0., 0., 0., 0., 0., 0.,\n",
       "       0., 0., 0., 0., 0., 0.])"
      ]
     },
     "execution_count": 154,
     "metadata": {},
     "output_type": "execute_result"
    }
   ],
   "source": [
    "y1 = np.zeros(len(x1))\n",
    "y2 = np.zeros(len(x1))\n",
    "y3 = np.zeros(len(x1))\n",
    "y4 = np.zeros(len(x1))\n",
    "y1"
   ]
  },
  {
   "cell_type": "code",
   "execution_count": null,
   "metadata": {},
   "outputs": [],
   "source": []
  },
  {
   "cell_type": "code",
   "execution_count": 155,
   "metadata": {},
   "outputs": [
    {
     "data": {
      "text/plain": [
       "(array([0.99815 , 0.998203, 0.998257, 0.99831 , 0.998364, 0.998417,\n",
       "        0.99847 , 0.998522, 0.998575, 0.998627, 0.998678, 0.99873 ,\n",
       "        0.998781, 0.998831, 0.998881, 0.99893 , 0.998979, 0.999027,\n",
       "        0.999075, 0.999121, 0.999167, 0.999213, 0.999257, 0.999301,\n",
       "        0.999343, 0.999385, 0.999426, 0.999465, 0.999504, 0.999541,\n",
       "        0.999578, 0.999613, 0.999647, 0.99968 , 0.999711, 0.999741,\n",
       "        0.99977 , 0.999797, 0.999823, 0.999847]),\n",
       " array([0.99987 , 0.999891, 0.999911, 0.999929, 0.999946, 0.999961,\n",
       "        0.999974, 0.999987, 0.999998, 1.000007, 1.000015, 1.000022,\n",
       "        1.000027, 1.000031, 1.000034, 1.000035, 1.000036, 1.000035,\n",
       "        1.000033, 1.000029, 1.000025, 1.000019, 1.000013, 1.000005,\n",
       "        0.999996, 0.999986, 0.999976, 0.999964, 0.999951, 0.999937,\n",
       "        0.999923, 0.999907, 0.99989 , 0.999873, 0.999855, 0.999836,\n",
       "        0.999816, 0.999796, 0.999775, 0.999753]),\n",
       " array([0.99973 , 0.999707, 0.999683, 0.999658, 0.999633, 0.999606,\n",
       "        0.99958 , 0.999552, 0.999524, 0.999495, 0.999466, 0.999435,\n",
       "        0.999404, 0.999373, 0.99934 , 0.999307, 0.999273, 0.999238,\n",
       "        0.999203, 0.999167, 0.99913 , 0.999092, 0.999054, 0.999015,\n",
       "        0.998975, 0.998934, 0.998893, 0.998851, 0.998808, 0.998764,\n",
       "        0.998719, 0.998674, 0.998628, 0.998581, 0.998533, 0.998485,\n",
       "        0.998435, 0.998385, 0.998334, 0.998283]),\n",
       " array([0.99823 , 0.998177, 0.998122, 0.998067, 0.998012, 0.997955,\n",
       "        0.997898, 0.99784 , 0.997781, 0.997722, 0.997662, 0.997602,\n",
       "        0.997541, 0.997479, 0.997417, 0.997354, 0.99729 , 0.997227,\n",
       "        0.997162, 0.997098, 0.997032, 0.996967, 0.996901, 0.996835,\n",
       "        0.996768, 0.996701, 0.996634, 0.996566, 0.996498, 0.99643 ,\n",
       "        0.996362, 0.996293, 0.996224, 0.996155, 0.996086, 0.996017,\n",
       "        0.995948, 0.995878, 0.995809, 0.995739]))"
      ]
     },
     "execution_count": 155,
     "metadata": {},
     "output_type": "execute_result"
    }
   ],
   "source": [
    "for i in range(len(x1)):\n",
    "    y1[i] = (aa[0] * (x1[i]-x[0])**3) + (bb[0] * (x1[i]-x[0])**2) + (cc[0] * (x1[i]-x[0])) + dd[0]\n",
    "    y2[i] = (aa[1] * (x2[i]-x[1])**3) + (bb[1] * (x2[i]-x[1])**2) + (cc[1] * (x2[i]-x[1])) + dd[1]\n",
    "    y3[i] = (aa[2] * (x3[i]-x[2])**3) + (bb[2] * (x3[i]-x[2])**2) + (cc[2] * (x3[i]-x[2])) + dd[2]\n",
    "    y4[i] = (aa[3] * (x4[i]-x[3])**3) + (bb[3] * (x4[i]-x[3])**2) + (cc[3] * (x4[i]-x[3])) + dd[3]\n",
    "    \n",
    "y1,y2,y3,y4"
   ]
  },
  {
   "cell_type": "code",
   "execution_count": 156,
   "metadata": {},
   "outputs": [
    {
     "data": {
      "image/png": "[encoded data removed]",
      "text/plain": [
       "<Figure size 432x288 with 1 Axes>"
      ]
     },
     "metadata": {},
     "output_type": "display_data"
    }
   ],
   "source": [
    "plt.plot(x1,y1)\n",
    "plt.plot(x2,y2)\n",
    "plt.plot(x3,y3)\n",
    "plt.plot(x4,y4)\n",
    "\n",
    "plt.grid()\n",
    "plt.show()"
   ]
  },
  {
   "cell_type": "code",
   "execution_count": null,
   "metadata": {},
   "outputs": [],
   "source": []
  },
  {
   "cell_type": "code",
   "execution_count": null,
   "metadata": {},
   "outputs": [],
   "source": []
  },
  {
   "cell_type": "code",
   "execution_count": null,
   "metadata": {},
   "outputs": [],
   "source": []
  },
  {
   "cell_type": "code",
   "execution_count": null,
   "metadata": {},
   "outputs": [],
   "source": []
  }
 ],
 "metadata": {
  "kernelspec": {
   "display_name": "Python 3",
   "language": "python",
   "name": "python3"
  },
  "language_info": {
   "codemirror_mode": {
    "name": "ipython",
    "version": 3
   },
   "file_extension": ".py",
   "mimetype": "text/x-python",
   "name": "python",
   "nbconvert_exporter": "python",
   "pygments_lexer": "ipython3",
   "version": "3.7.1"
  }
 },
 "nbformat": 4,
 "nbformat_minor": 2
}
